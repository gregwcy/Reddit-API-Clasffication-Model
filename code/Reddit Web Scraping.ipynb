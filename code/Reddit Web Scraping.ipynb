{
 "cells": [
  {
   "cell_type": "markdown",
   "id": "245293b2",
   "metadata": {},
   "source": [
    "## Reddit Web Scrapping\n",
    "\n",
    "In this workbook, we aim to scrape 2 subreddits for use in our modelling process. \n",
    "\n",
    "* [Groundwork](#sec_1)\n",
    "* [Functions](#sec_2)\n",
    "* [Web Scraping](#sec_3)\n",
    "* [Data Cleaning](#sec_4)\n",
    "* [Export Data](#sec_5)"
   ]
  },
  {
   "cell_type": "markdown",
   "id": "7637e2a5",
   "metadata": {},
   "source": [
    "## <a name=\"sec_1\"></a>Groundwork"
   ]
  },
  {
   "cell_type": "code",
   "execution_count": 41,
   "id": "bce97e55",
   "metadata": {},
   "outputs": [],
   "source": [
    "# We import the necessary libraries\n",
    "import requests\n",
    "import pandas as pd\n",
    "import time\n",
    "import random"
   ]
  },
  {
   "cell_type": "code",
   "execution_count": 64,
   "id": "91fa0807",
   "metadata": {},
   "outputs": [],
   "source": [
    "# We user configs\n",
    "headers = {'User-agent': 'greg 0.2'}"
   ]
  },
  {
   "cell_type": "markdown",
   "id": "41fa897a",
   "metadata": {},
   "source": [
    "## <a name=\"sec_2\"></a>Functions"
   ]
  },
  {
   "cell_type": "code",
   "execution_count": 76,
   "id": "105417f8",
   "metadata": {},
   "outputs": [],
   "source": [
    "# We will use this to scrape data\n",
    "posts = [] #REMEMBER TO CHANGE THIS\n",
    "after = None\n",
    "for _ in range(50):\n",
    "    if after == None:\n",
    "        params = {}\n",
    "    else:\n",
    "        params = {'after': after}\n",
    "    url = 'https://www.reddit.com/r/CongratsLikeImFive/.json'   # CHANGE THIS URL\n",
    "    res = requests.get(url, params = params, headers = headers)\n",
    "    if res.status_code == 200:\n",
    "        x = res.json()\n",
    "        posts.extend(x['data']['children']) # CHANGE POSTS\n",
    "        after = x['data']['after']\n",
    "    else:\n",
    "        print(res.status_code)\n",
    "        break\n",
    "    time.sleep(1) # slow down the for loop by 1 second in between, to prevent looking like ddos attack\n"
   ]
  },
  {
   "cell_type": "code",
   "execution_count": 58,
   "id": "0eea5643",
   "metadata": {},
   "outputs": [],
   "source": [
    "def create_df(posts,df):\n",
    "    for i, p in enumerate(posts):\n",
    "        p_keys = p['data'].keys()\n",
    "        \n",
    "        for col in cols:\n",
    "            if col in p_keys:\n",
    "                df.at[i,col] = p['data'][col]\n",
    "            else:\n",
    "                df.at[i,col] = np.nan\n",
    "                print(i,col,'nan')\n",
    "    return df"
   ]
  },
  {
   "cell_type": "markdown",
   "id": "be12d0bf",
   "metadata": {},
   "source": [
    "## <a name=\"sec_3\"></a>Web Scraping"
   ]
  },
  {
   "cell_type": "code",
   "execution_count": 87,
   "id": "c6b6b298",
   "metadata": {},
   "outputs": [],
   "source": [
    "# Scrape first sub reddit\n",
    "hist = [] #REMEMBER TO CHANGE THIS\n",
    "after = None\n",
    "for _ in range(50):\n",
    "    if after == None:\n",
    "        params = {}\n",
    "    else:\n",
    "        params = {'after': after}\n",
    "    url = 'https://www.reddit.com/r/AskHistorians/.json'   # CHANGE THIS URL\n",
    "    res = requests.get(url, params = params, headers = headers)\n",
    "    if res.status_code == 200:\n",
    "        x = res.json()\n",
    "        hist.extend(x['data']['children']) # CHANGE POSTS\n",
    "        after = x['data']['after']\n",
    "    else:\n",
    "        print(res.status_code)\n",
    "        break\n",
    "    time.sleep(1) # slow down the for loop by 1 second in between, to prevent looking like ddos attack"
   ]
  },
  {
   "cell_type": "code",
   "execution_count": 84,
   "id": "c1777b0c",
   "metadata": {},
   "outputs": [],
   "source": [
    "# Scrape second sub reddit\n",
    "science = [] #REMEMBER TO CHANGE THIS\n",
    "after = None\n",
    "for _ in range(50):\n",
    "    if after == None:\n",
    "        params = {}\n",
    "    else:\n",
    "        params = {'after': after}\n",
    "    url = 'https://www.reddit.com/r/askscience/.json'   # CHANGE THIS URL\n",
    "    res = requests.get(url, params = params, headers = headers)\n",
    "    if res.status_code == 200:\n",
    "        x = res.json()\n",
    "        science.extend(x['data']['children']) # CHANGE POSTS\n",
    "        after = x['data']['after']\n",
    "    else:\n",
    "        print(res.status_code)\n",
    "        break\n",
    "    time.sleep(1) # slow down the for loop by 1 second in between, to prevent looking like ddos attack"
   ]
  },
  {
   "cell_type": "code",
   "execution_count": 88,
   "id": "f3426876",
   "metadata": {},
   "outputs": [
    {
     "name": "stdout",
     "output_type": "stream",
     "text": [
      "999\n",
      "1000\n"
     ]
    }
   ],
   "source": [
    "# Check the number of unique posts in each subreddit\n",
    "print(len(set([p['data']['name'] for p in hist])))\n",
    "print(len(set([p['data']['name'] for p in science])))"
   ]
  },
  {
   "cell_type": "markdown",
   "id": "efb865c2",
   "metadata": {},
   "source": [
    "## <a name=\"sec_4\"></a>Data Cleaning"
   ]
  },
  {
   "cell_type": "code",
   "execution_count": 107,
   "id": "ad6754c4",
   "metadata": {},
   "outputs": [
    {
     "data": {
      "text/plain": [
       "dict_keys(['approved_at_utc', 'subreddit', 'selftext', 'author_fullname', 'saved', 'mod_reason_title', 'gilded', 'clicked', 'title', 'link_flair_richtext', 'subreddit_name_prefixed', 'collections', 'hidden', 'pwls', 'link_flair_css_class', 'downs', 'top_awarded_type', 'hide_score', 'name', 'quarantine', 'link_flair_text_color', 'upvote_ratio', 'author_flair_background_color', 'subreddit_type', 'ups', 'total_awards_received', 'media_embed', 'author_flair_template_id', 'is_original_content', 'user_reports', 'secure_media', 'is_reddit_media_domain', 'is_meta', 'category', 'secure_media_embed', 'link_flair_text', 'can_mod_post', 'score', 'approved_by', 'is_created_from_ads_ui', 'author_premium', 'thumbnail', 'edited', 'author_flair_css_class', 'author_flair_richtext', 'gildings', 'content_categories', 'is_self', 'mod_note', 'created', 'link_flair_type', 'wls', 'removed_by_category', 'banned_by', 'author_flair_type', 'domain', 'allow_live_comments', 'selftext_html', 'likes', 'suggested_sort', 'banned_at_utc', 'view_count', 'archived', 'no_follow', 'is_crosspostable', 'pinned', 'over_18', 'all_awardings', 'awarders', 'media_only', 'link_flair_template_id', 'can_gild', 'spoiler', 'locked', 'author_flair_text', 'treatment_tags', 'visited', 'removed_by', 'num_reports', 'distinguished', 'subreddit_id', 'mod_reason_by', 'removal_reason', 'link_flair_background_color', 'id', 'is_robot_indexable', 'report_reasons', 'author', 'discussion_type', 'num_comments', 'send_replies', 'whitelist_status', 'contest_mode', 'mod_reports', 'author_patreon_flair', 'author_flair_text_color', 'permalink', 'parent_whitelist_status', 'stickied', 'url', 'subreddit_subscribers', 'created_utc', 'num_crossposts', 'media', 'is_video'])"
      ]
     },
     "execution_count": 107,
     "metadata": {},
     "output_type": "execute_result"
    }
   ],
   "source": [
    "# We look at what data we need\n",
    "hist[0]['data'].keys()"
   ]
  },
  {
   "cell_type": "code",
   "execution_count": 119,
   "id": "1f73579a",
   "metadata": {},
   "outputs": [],
   "source": [
    "# We create a list of columns of the potential columns we might want\n",
    "cols = ['subreddit', 'name', 'title', 'selftext', 'score']"
   ]
  },
  {
   "cell_type": "code",
   "execution_count": 120,
   "id": "6fd61671",
   "metadata": {},
   "outputs": [],
   "source": [
    "# We create our dataframes with the columns\n",
    "\n",
    "df_hist = pd.DataFrame(columns = cols)\n",
    "df_science = pd.DataFrame(columns = cols)"
   ]
  },
  {
   "cell_type": "code",
   "execution_count": 121,
   "id": "74dffe0d",
   "metadata": {},
   "outputs": [],
   "source": [
    "# We then extract data to our dataframes\n",
    "df_hist = create_df(hist, df_hist)\n",
    "df_science = create_df(science, df_science)"
   ]
  },
  {
   "cell_type": "code",
   "execution_count": 122,
   "id": "02fe2f05",
   "metadata": {},
   "outputs": [
    {
     "data": {
      "text/html": [
       "<div>\n",
       "<style scoped>\n",
       "    .dataframe tbody tr th:only-of-type {\n",
       "        vertical-align: middle;\n",
       "    }\n",
       "\n",
       "    .dataframe tbody tr th {\n",
       "        vertical-align: top;\n",
       "    }\n",
       "\n",
       "    .dataframe thead th {\n",
       "        text-align: right;\n",
       "    }\n",
       "</style>\n",
       "<table border=\"1\" class=\"dataframe\">\n",
       "  <thead>\n",
       "    <tr style=\"text-align: right;\">\n",
       "      <th></th>\n",
       "      <th>subreddit</th>\n",
       "      <th>name</th>\n",
       "      <th>title</th>\n",
       "      <th>selftext</th>\n",
       "      <th>score</th>\n",
       "    </tr>\n",
       "  </thead>\n",
       "  <tbody>\n",
       "    <tr>\n",
       "      <th>0</th>\n",
       "      <td>AskHistorians</td>\n",
       "      <td>t3_nyvt8e</td>\n",
       "      <td>Sunday Digest | Interesting &amp;amp; Overlooked P...</td>\n",
       "      <td>[Previous](https://www.reddit.com/r/AskHistori...</td>\n",
       "      <td>28</td>\n",
       "    </tr>\n",
       "    <tr>\n",
       "      <th>1</th>\n",
       "      <td>AskHistorians</td>\n",
       "      <td>t3_nvvd8w</td>\n",
       "      <td>Short Answers to Simple Questions | June 09, 2021</td>\n",
       "      <td>[Previous weeks!](https://www.reddit.com/r/Ask...</td>\n",
       "      <td>29</td>\n",
       "    </tr>\n",
       "    <tr>\n",
       "      <th>2</th>\n",
       "      <td>AskHistorians</td>\n",
       "      <td>t3_o0dn7y</td>\n",
       "      <td>In fairy tales, there is a popular trope of be...</td>\n",
       "      <td></td>\n",
       "      <td>3061</td>\n",
       "    </tr>\n",
       "    <tr>\n",
       "      <th>3</th>\n",
       "      <td>AskHistorians</td>\n",
       "      <td>t3_o0w9hv</td>\n",
       "      <td>In the Middle Ages, were merchants allowed to ...</td>\n",
       "      <td>The author describes a wool merchant chopping ...</td>\n",
       "      <td>40</td>\n",
       "    </tr>\n",
       "    <tr>\n",
       "      <th>4</th>\n",
       "      <td>AskHistorians</td>\n",
       "      <td>t3_o0ts67</td>\n",
       "      <td>Did English nobility get involved in the lives...</td>\n",
       "      <td>I’m watching Downton Abby for the first time. ...</td>\n",
       "      <td>60</td>\n",
       "    </tr>\n",
       "  </tbody>\n",
       "</table>\n",
       "</div>"
      ],
      "text/plain": [
       "       subreddit       name  \\\n",
       "0  AskHistorians  t3_nyvt8e   \n",
       "1  AskHistorians  t3_nvvd8w   \n",
       "2  AskHistorians  t3_o0dn7y   \n",
       "3  AskHistorians  t3_o0w9hv   \n",
       "4  AskHistorians  t3_o0ts67   \n",
       "\n",
       "                                               title  \\\n",
       "0  Sunday Digest | Interesting &amp; Overlooked P...   \n",
       "1  Short Answers to Simple Questions | June 09, 2021   \n",
       "2  In fairy tales, there is a popular trope of be...   \n",
       "3  In the Middle Ages, were merchants allowed to ...   \n",
       "4  Did English nobility get involved in the lives...   \n",
       "\n",
       "                                            selftext score  \n",
       "0  [Previous](https://www.reddit.com/r/AskHistori...    28  \n",
       "1  [Previous weeks!](https://www.reddit.com/r/Ask...    29  \n",
       "2                                                     3061  \n",
       "3  The author describes a wool merchant chopping ...    40  \n",
       "4  I’m watching Downton Abby for the first time. ...    60  "
      ]
     },
     "execution_count": 122,
     "metadata": {},
     "output_type": "execute_result"
    }
   ],
   "source": [
    "# We look at our dataframe\n",
    "df_hist.head()"
   ]
  },
  {
   "cell_type": "code",
   "execution_count": 123,
   "id": "3b2b9772",
   "metadata": {},
   "outputs": [
    {
     "data": {
      "text/html": [
       "<div>\n",
       "<style scoped>\n",
       "    .dataframe tbody tr th:only-of-type {\n",
       "        vertical-align: middle;\n",
       "    }\n",
       "\n",
       "    .dataframe tbody tr th {\n",
       "        vertical-align: top;\n",
       "    }\n",
       "\n",
       "    .dataframe thead th {\n",
       "        text-align: right;\n",
       "    }\n",
       "</style>\n",
       "<table border=\"1\" class=\"dataframe\">\n",
       "  <thead>\n",
       "    <tr style=\"text-align: right;\">\n",
       "      <th></th>\n",
       "      <th>subreddit</th>\n",
       "      <th>name</th>\n",
       "      <th>title</th>\n",
       "      <th>selftext</th>\n",
       "      <th>score</th>\n",
       "    </tr>\n",
       "  </thead>\n",
       "  <tbody>\n",
       "    <tr>\n",
       "      <th>0</th>\n",
       "      <td>askscience</td>\n",
       "      <td>t3_l4yi0i</td>\n",
       "      <td>AskScience Panel of Scientists XXIV</td>\n",
       "      <td>**Please read this entire post carefully and f...</td>\n",
       "      <td>267</td>\n",
       "    </tr>\n",
       "    <tr>\n",
       "      <th>1</th>\n",
       "      <td>askscience</td>\n",
       "      <td>t3_o0bncs</td>\n",
       "      <td>AskScience AMA Series: We have 60+ years of ex...</td>\n",
       "      <td>\"We\" are part of [REN21](https://www.ren21.net...</td>\n",
       "      <td>748</td>\n",
       "    </tr>\n",
       "    <tr>\n",
       "      <th>2</th>\n",
       "      <td>askscience</td>\n",
       "      <td>t3_o0i9s0</td>\n",
       "      <td>How deep can water be before the water at the ...</td>\n",
       "      <td>Let's assume the water is pure H20 (and not se...</td>\n",
       "      <td>4230</td>\n",
       "    </tr>\n",
       "    <tr>\n",
       "      <th>3</th>\n",
       "      <td>askscience</td>\n",
       "      <td>t3_nzy81l</td>\n",
       "      <td>If Hailey’s comet loses ice to form its tail, ...</td>\n",
       "      <td></td>\n",
       "      <td>5201</td>\n",
       "    </tr>\n",
       "    <tr>\n",
       "      <th>4</th>\n",
       "      <td>askscience</td>\n",
       "      <td>t3_o0k1fs</td>\n",
       "      <td>Why are liquids almost always shiny/reflective?</td>\n",
       "      <td>I am painting some furniture and just started ...</td>\n",
       "      <td>109</td>\n",
       "    </tr>\n",
       "  </tbody>\n",
       "</table>\n",
       "</div>"
      ],
      "text/plain": [
       "    subreddit       name                                              title  \\\n",
       "0  askscience  t3_l4yi0i                AskScience Panel of Scientists XXIV   \n",
       "1  askscience  t3_o0bncs  AskScience AMA Series: We have 60+ years of ex...   \n",
       "2  askscience  t3_o0i9s0  How deep can water be before the water at the ...   \n",
       "3  askscience  t3_nzy81l  If Hailey’s comet loses ice to form its tail, ...   \n",
       "4  askscience  t3_o0k1fs    Why are liquids almost always shiny/reflective?   \n",
       "\n",
       "                                            selftext score  \n",
       "0  **Please read this entire post carefully and f...   267  \n",
       "1  \"We\" are part of [REN21](https://www.ren21.net...   748  \n",
       "2  Let's assume the water is pure H20 (and not se...  4230  \n",
       "3                                                     5201  \n",
       "4  I am painting some furniture and just started ...   109  "
      ]
     },
     "execution_count": 123,
     "metadata": {},
     "output_type": "execute_result"
    }
   ],
   "source": [
    "df_science.head()"
   ]
  },
  {
   "cell_type": "code",
   "execution_count": 124,
   "id": "dc92a2f7",
   "metadata": {},
   "outputs": [],
   "source": [
    "# We drop duplicates\n",
    "df_hist.drop_duplicates(subset='name', inplace=True)\n",
    "df_science.drop_duplicates(subset='name', inplace=True)"
   ]
  },
  {
   "cell_type": "code",
   "execution_count": 125,
   "id": "c7f2013d",
   "metadata": {},
   "outputs": [
    {
     "name": "stdout",
     "output_type": "stream",
     "text": [
      "(999, 5)\n",
      "(1000, 5)\n"
     ]
    }
   ],
   "source": [
    "# We look at the distinct posts we have\n",
    "print(df_hist.shape)\n",
    "print(df_science.shape)"
   ]
  },
  {
   "cell_type": "code",
   "execution_count": 126,
   "id": "cf9128ad",
   "metadata": {},
   "outputs": [
    {
     "data": {
      "text/plain": [
       "subreddit    0\n",
       "name         0\n",
       "title        0\n",
       "selftext     0\n",
       "score        0\n",
       "dtype: int64"
      ]
     },
     "execution_count": 126,
     "metadata": {},
     "output_type": "execute_result"
    }
   ],
   "source": [
    "# Check for nans\n",
    "\n",
    "df_hist.isnull().sum()"
   ]
  },
  {
   "cell_type": "code",
   "execution_count": 127,
   "id": "93a2c37c",
   "metadata": {
    "scrolled": true
   },
   "outputs": [
    {
     "data": {
      "text/plain": [
       "subreddit    0\n",
       "name         0\n",
       "title        0\n",
       "selftext     0\n",
       "score        0\n",
       "dtype: int64"
      ]
     },
     "execution_count": 127,
     "metadata": {},
     "output_type": "execute_result"
    }
   ],
   "source": [
    "df_science.isnull().sum()"
   ]
  },
  {
   "cell_type": "markdown",
   "id": "85df090a",
   "metadata": {},
   "source": [
    "## <a name=\"sec_5\"></a>Export Data"
   ]
  },
  {
   "cell_type": "code",
   "execution_count": 130,
   "id": "53de86b6",
   "metadata": {},
   "outputs": [],
   "source": [
    "# Export data\n",
    "df_hist.to_csv('./data/askhistorians.csv')\n",
    "df_science.to_csv('./data/askscience.csv')"
   ]
  },
  {
   "cell_type": "code",
   "execution_count": null,
   "id": "5094d685",
   "metadata": {},
   "outputs": [],
   "source": []
  }
 ],
 "metadata": {
  "kernelspec": {
   "display_name": "Python 3",
   "language": "python",
   "name": "python3"
  },
  "language_info": {
   "codemirror_mode": {
    "name": "ipython",
    "version": 3
   },
   "file_extension": ".py",
   "mimetype": "text/x-python",
   "name": "python",
   "nbconvert_exporter": "python",
   "pygments_lexer": "ipython3",
   "version": "3.8.8"
  }
 },
 "nbformat": 4,
 "nbformat_minor": 5
}
